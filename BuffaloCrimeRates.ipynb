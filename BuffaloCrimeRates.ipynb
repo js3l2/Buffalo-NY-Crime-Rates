{
  "nbformat": 4,
  "nbformat_minor": 0,
  "metadata": {
    "colab": {
      "name": "Untitled3.ipynb",
      "provenance": [],
      "authorship_tag": "ABX9TyPB2KCBYdxccgZO8wPUcZat",
      "include_colab_link": true
    },
    "kernelspec": {
      "name": "python3",
      "display_name": "Python 3"
    },
    "language_info": {
      "name": "python"
    }
  },
  "cells": [
    {
      "cell_type": "markdown",
      "metadata": {
        "id": "view-in-github",
        "colab_type": "text"
      },
      "source": [
        "<a href=\"https://colab.research.google.com/github/js3l2/Buffalo-NY-Crime-Rates/blob/main/BuffaloCrimeRates.ipynb\" target=\"_parent\"><img src=\"https://colab.research.google.com/assets/colab-badge.svg\" alt=\"Open In Colab\"/></a>"
      ]
    },
    {
      "cell_type": "code",
      "execution_count": null,
      "metadata": {
        "id": "6SKlPo47Ebh2"
      },
      "outputs": [],
      "source": [
        "import pandas as pd\n",
        "import sqlite3\n",
        "import matplotlib.pyplot as plt"
      ]
    },
    {
      "cell_type": "markdown",
      "source": [
        "### Api call with limit 1220"
      ],
      "metadata": {
        "id": "6XjDm01RaNX2"
      }
    },
    {
      "cell_type": "code",
      "source": [
        "url=\"https://data.buffalony.gov/resource/xxu9-yrhd.csv?$limit=1220\"\n",
        "df = pd.read_csv(url)\n",
        "df.dropna(axis=1, thresh=1)"
      ],
      "metadata": {
        "colab": {
          "base_uri": "https://localhost:8080/",
          "height": 419
        },
        "id": "f_gfFVv7EfUa",
        "outputId": "2344e3a6-3d78-484f-a246-d692f84369ef"
      },
      "execution_count": null,
      "outputs": [
        {
          "output_type": "execute_result",
          "data": {
            "text/plain": [
              "          type  count    month  year                     date\n",
              "0     Homicide      8      Jun  2022  2022-06-01T00:00:00.000\n",
              "1         Rape      9      Jun  2022  2022-06-01T00:00:00.000\n",
              "2      Robbery     37      Jun  2022  2022-06-01T00:00:00.000\n",
              "3      Assault    150      Jun  2022  2022-06-01T00:00:00.000\n",
              "4     Burglary    118      Jun  2022  2022-06-01T00:00:00.000\n",
              "...        ...    ...      ...   ...                      ...\n",
              "1213   Larceny    744  January  2008  2008-01-01T00:00:00.000\n",
              "1214      Rape     23  January  2008  2008-01-01T00:00:00.000\n",
              "1215  Homicide      2  January  2008  2008-01-01T00:00:00.000\n",
              "1216  Burglary    313  January  2008  2008-01-01T00:00:00.000\n",
              "1217   Robbery    135  January  2008  2008-01-01T00:00:00.000\n",
              "\n",
              "[1218 rows x 5 columns]"
            ],
            "text/html": [
              "\n",
              "  <div id=\"df-2f789b46-d1ae-4555-bd90-8ea197b9ef27\">\n",
              "    <div class=\"colab-df-container\">\n",
              "      <div>\n",
              "<style scoped>\n",
              "    .dataframe tbody tr th:only-of-type {\n",
              "        vertical-align: middle;\n",
              "    }\n",
              "\n",
              "    .dataframe tbody tr th {\n",
              "        vertical-align: top;\n",
              "    }\n",
              "\n",
              "    .dataframe thead th {\n",
              "        text-align: right;\n",
              "    }\n",
              "</style>\n",
              "<table border=\"1\" class=\"dataframe\">\n",
              "  <thead>\n",
              "    <tr style=\"text-align: right;\">\n",
              "      <th></th>\n",
              "      <th>type</th>\n",
              "      <th>count</th>\n",
              "      <th>month</th>\n",
              "      <th>year</th>\n",
              "      <th>date</th>\n",
              "    </tr>\n",
              "  </thead>\n",
              "  <tbody>\n",
              "    <tr>\n",
              "      <th>0</th>\n",
              "      <td>Homicide</td>\n",
              "      <td>8</td>\n",
              "      <td>Jun</td>\n",
              "      <td>2022</td>\n",
              "      <td>2022-06-01T00:00:00.000</td>\n",
              "    </tr>\n",
              "    <tr>\n",
              "      <th>1</th>\n",
              "      <td>Rape</td>\n",
              "      <td>9</td>\n",
              "      <td>Jun</td>\n",
              "      <td>2022</td>\n",
              "      <td>2022-06-01T00:00:00.000</td>\n",
              "    </tr>\n",
              "    <tr>\n",
              "      <th>2</th>\n",
              "      <td>Robbery</td>\n",
              "      <td>37</td>\n",
              "      <td>Jun</td>\n",
              "      <td>2022</td>\n",
              "      <td>2022-06-01T00:00:00.000</td>\n",
              "    </tr>\n",
              "    <tr>\n",
              "      <th>3</th>\n",
              "      <td>Assault</td>\n",
              "      <td>150</td>\n",
              "      <td>Jun</td>\n",
              "      <td>2022</td>\n",
              "      <td>2022-06-01T00:00:00.000</td>\n",
              "    </tr>\n",
              "    <tr>\n",
              "      <th>4</th>\n",
              "      <td>Burglary</td>\n",
              "      <td>118</td>\n",
              "      <td>Jun</td>\n",
              "      <td>2022</td>\n",
              "      <td>2022-06-01T00:00:00.000</td>\n",
              "    </tr>\n",
              "    <tr>\n",
              "      <th>...</th>\n",
              "      <td>...</td>\n",
              "      <td>...</td>\n",
              "      <td>...</td>\n",
              "      <td>...</td>\n",
              "      <td>...</td>\n",
              "    </tr>\n",
              "    <tr>\n",
              "      <th>1213</th>\n",
              "      <td>Larceny</td>\n",
              "      <td>744</td>\n",
              "      <td>January</td>\n",
              "      <td>2008</td>\n",
              "      <td>2008-01-01T00:00:00.000</td>\n",
              "    </tr>\n",
              "    <tr>\n",
              "      <th>1214</th>\n",
              "      <td>Rape</td>\n",
              "      <td>23</td>\n",
              "      <td>January</td>\n",
              "      <td>2008</td>\n",
              "      <td>2008-01-01T00:00:00.000</td>\n",
              "    </tr>\n",
              "    <tr>\n",
              "      <th>1215</th>\n",
              "      <td>Homicide</td>\n",
              "      <td>2</td>\n",
              "      <td>January</td>\n",
              "      <td>2008</td>\n",
              "      <td>2008-01-01T00:00:00.000</td>\n",
              "    </tr>\n",
              "    <tr>\n",
              "      <th>1216</th>\n",
              "      <td>Burglary</td>\n",
              "      <td>313</td>\n",
              "      <td>January</td>\n",
              "      <td>2008</td>\n",
              "      <td>2008-01-01T00:00:00.000</td>\n",
              "    </tr>\n",
              "    <tr>\n",
              "      <th>1217</th>\n",
              "      <td>Robbery</td>\n",
              "      <td>135</td>\n",
              "      <td>January</td>\n",
              "      <td>2008</td>\n",
              "      <td>2008-01-01T00:00:00.000</td>\n",
              "    </tr>\n",
              "  </tbody>\n",
              "</table>\n",
              "<p>1218 rows × 5 columns</p>\n",
              "</div>\n",
              "      <button class=\"colab-df-convert\" onclick=\"convertToInteractive('df-2f789b46-d1ae-4555-bd90-8ea197b9ef27')\"\n",
              "              title=\"Convert this dataframe to an interactive table.\"\n",
              "              style=\"display:none;\">\n",
              "        \n",
              "  <svg xmlns=\"http://www.w3.org/2000/svg\" height=\"24px\"viewBox=\"0 0 24 24\"\n",
              "       width=\"24px\">\n",
              "    <path d=\"M0 0h24v24H0V0z\" fill=\"none\"/>\n",
              "    <path d=\"M18.56 5.44l.94 2.06.94-2.06 2.06-.94-2.06-.94-.94-2.06-.94 2.06-2.06.94zm-11 1L8.5 8.5l.94-2.06 2.06-.94-2.06-.94L8.5 2.5l-.94 2.06-2.06.94zm10 10l.94 2.06.94-2.06 2.06-.94-2.06-.94-.94-2.06-.94 2.06-2.06.94z\"/><path d=\"M17.41 7.96l-1.37-1.37c-.4-.4-.92-.59-1.43-.59-.52 0-1.04.2-1.43.59L10.3 9.45l-7.72 7.72c-.78.78-.78 2.05 0 2.83L4 21.41c.39.39.9.59 1.41.59.51 0 1.02-.2 1.41-.59l7.78-7.78 2.81-2.81c.8-.78.8-2.07 0-2.86zM5.41 20L4 18.59l7.72-7.72 1.47 1.35L5.41 20z\"/>\n",
              "  </svg>\n",
              "      </button>\n",
              "      \n",
              "  <style>\n",
              "    .colab-df-container {\n",
              "      display:flex;\n",
              "      flex-wrap:wrap;\n",
              "      gap: 12px;\n",
              "    }\n",
              "\n",
              "    .colab-df-convert {\n",
              "      background-color: #E8F0FE;\n",
              "      border: none;\n",
              "      border-radius: 50%;\n",
              "      cursor: pointer;\n",
              "      display: none;\n",
              "      fill: #1967D2;\n",
              "      height: 32px;\n",
              "      padding: 0 0 0 0;\n",
              "      width: 32px;\n",
              "    }\n",
              "\n",
              "    .colab-df-convert:hover {\n",
              "      background-color: #E2EBFA;\n",
              "      box-shadow: 0px 1px 2px rgba(60, 64, 67, 0.3), 0px 1px 3px 1px rgba(60, 64, 67, 0.15);\n",
              "      fill: #174EA6;\n",
              "    }\n",
              "\n",
              "    [theme=dark] .colab-df-convert {\n",
              "      background-color: #3B4455;\n",
              "      fill: #D2E3FC;\n",
              "    }\n",
              "\n",
              "    [theme=dark] .colab-df-convert:hover {\n",
              "      background-color: #434B5C;\n",
              "      box-shadow: 0px 1px 3px 1px rgba(0, 0, 0, 0.15);\n",
              "      filter: drop-shadow(0px 1px 2px rgba(0, 0, 0, 0.3));\n",
              "      fill: #FFFFFF;\n",
              "    }\n",
              "  </style>\n",
              "\n",
              "      <script>\n",
              "        const buttonEl =\n",
              "          document.querySelector('#df-2f789b46-d1ae-4555-bd90-8ea197b9ef27 button.colab-df-convert');\n",
              "        buttonEl.style.display =\n",
              "          google.colab.kernel.accessAllowed ? 'block' : 'none';\n",
              "\n",
              "        async function convertToInteractive(key) {\n",
              "          const element = document.querySelector('#df-2f789b46-d1ae-4555-bd90-8ea197b9ef27');\n",
              "          const dataTable =\n",
              "            await google.colab.kernel.invokeFunction('convertToInteractive',\n",
              "                                                     [key], {});\n",
              "          if (!dataTable) return;\n",
              "\n",
              "          const docLinkHtml = 'Like what you see? Visit the ' +\n",
              "            '<a target=\"_blank\" href=https://colab.research.google.com/notebooks/data_table.ipynb>data table notebook</a>'\n",
              "            + ' to learn more about interactive tables.';\n",
              "          element.innerHTML = '';\n",
              "          dataTable['output_type'] = 'display_data';\n",
              "          await google.colab.output.renderOutput(dataTable, element);\n",
              "          const docLink = document.createElement('div');\n",
              "          docLink.innerHTML = docLinkHtml;\n",
              "          element.appendChild(docLink);\n",
              "        }\n",
              "      </script>\n",
              "    </div>\n",
              "  </div>\n",
              "  "
            ]
          },
          "metadata": {},
          "execution_count": 171
        }
      ]
    },
    {
      "cell_type": "markdown",
      "source": [
        "### Sorting of Crimes per date and printing first and last five rows\n"
      ],
      "metadata": {
        "id": "2xZ98QO7QZIW"
      }
    },
    {
      "cell_type": "code",
      "source": [
        "CrimeRatesSorted = df.sort_values(by=[\"date\"],ascending=True)\n",
        "\n",
        "CrimeRatesSorted.head()"
      ],
      "metadata": {
        "colab": {
          "base_uri": "https://localhost:8080/",
          "height": 204
        },
        "id": "7XxVi7sJGTW1",
        "outputId": "e6154724-80e1-49e1-8457-da13b057f14c"
      },
      "execution_count": null,
      "outputs": [
        {
          "output_type": "execute_result",
          "data": {
            "text/plain": [
              "                     type  count    month  year                     date\n",
              "1217              Robbery    135  January  2008  2008-01-01T00:00:00.000\n",
              "1211              Assault    136  January  2008  2008-01-01T00:00:00.000\n",
              "1212  Motor Vehicle Theft    200  January  2008  2008-01-01T00:00:00.000\n",
              "1216             Burglary    313  January  2008  2008-01-01T00:00:00.000\n",
              "1214                 Rape     23  January  2008  2008-01-01T00:00:00.000"
            ],
            "text/html": [
              "\n",
              "  <div id=\"df-9301d50d-5081-4075-b651-91536f86a921\">\n",
              "    <div class=\"colab-df-container\">\n",
              "      <div>\n",
              "<style scoped>\n",
              "    .dataframe tbody tr th:only-of-type {\n",
              "        vertical-align: middle;\n",
              "    }\n",
              "\n",
              "    .dataframe tbody tr th {\n",
              "        vertical-align: top;\n",
              "    }\n",
              "\n",
              "    .dataframe thead th {\n",
              "        text-align: right;\n",
              "    }\n",
              "</style>\n",
              "<table border=\"1\" class=\"dataframe\">\n",
              "  <thead>\n",
              "    <tr style=\"text-align: right;\">\n",
              "      <th></th>\n",
              "      <th>type</th>\n",
              "      <th>count</th>\n",
              "      <th>month</th>\n",
              "      <th>year</th>\n",
              "      <th>date</th>\n",
              "    </tr>\n",
              "  </thead>\n",
              "  <tbody>\n",
              "    <tr>\n",
              "      <th>1217</th>\n",
              "      <td>Robbery</td>\n",
              "      <td>135</td>\n",
              "      <td>January</td>\n",
              "      <td>2008</td>\n",
              "      <td>2008-01-01T00:00:00.000</td>\n",
              "    </tr>\n",
              "    <tr>\n",
              "      <th>1211</th>\n",
              "      <td>Assault</td>\n",
              "      <td>136</td>\n",
              "      <td>January</td>\n",
              "      <td>2008</td>\n",
              "      <td>2008-01-01T00:00:00.000</td>\n",
              "    </tr>\n",
              "    <tr>\n",
              "      <th>1212</th>\n",
              "      <td>Motor Vehicle Theft</td>\n",
              "      <td>200</td>\n",
              "      <td>January</td>\n",
              "      <td>2008</td>\n",
              "      <td>2008-01-01T00:00:00.000</td>\n",
              "    </tr>\n",
              "    <tr>\n",
              "      <th>1216</th>\n",
              "      <td>Burglary</td>\n",
              "      <td>313</td>\n",
              "      <td>January</td>\n",
              "      <td>2008</td>\n",
              "      <td>2008-01-01T00:00:00.000</td>\n",
              "    </tr>\n",
              "    <tr>\n",
              "      <th>1214</th>\n",
              "      <td>Rape</td>\n",
              "      <td>23</td>\n",
              "      <td>January</td>\n",
              "      <td>2008</td>\n",
              "      <td>2008-01-01T00:00:00.000</td>\n",
              "    </tr>\n",
              "  </tbody>\n",
              "</table>\n",
              "</div>\n",
              "      <button class=\"colab-df-convert\" onclick=\"convertToInteractive('df-9301d50d-5081-4075-b651-91536f86a921')\"\n",
              "              title=\"Convert this dataframe to an interactive table.\"\n",
              "              style=\"display:none;\">\n",
              "        \n",
              "  <svg xmlns=\"http://www.w3.org/2000/svg\" height=\"24px\"viewBox=\"0 0 24 24\"\n",
              "       width=\"24px\">\n",
              "    <path d=\"M0 0h24v24H0V0z\" fill=\"none\"/>\n",
              "    <path d=\"M18.56 5.44l.94 2.06.94-2.06 2.06-.94-2.06-.94-.94-2.06-.94 2.06-2.06.94zm-11 1L8.5 8.5l.94-2.06 2.06-.94-2.06-.94L8.5 2.5l-.94 2.06-2.06.94zm10 10l.94 2.06.94-2.06 2.06-.94-2.06-.94-.94-2.06-.94 2.06-2.06.94z\"/><path d=\"M17.41 7.96l-1.37-1.37c-.4-.4-.92-.59-1.43-.59-.52 0-1.04.2-1.43.59L10.3 9.45l-7.72 7.72c-.78.78-.78 2.05 0 2.83L4 21.41c.39.39.9.59 1.41.59.51 0 1.02-.2 1.41-.59l7.78-7.78 2.81-2.81c.8-.78.8-2.07 0-2.86zM5.41 20L4 18.59l7.72-7.72 1.47 1.35L5.41 20z\"/>\n",
              "  </svg>\n",
              "      </button>\n",
              "      \n",
              "  <style>\n",
              "    .colab-df-container {\n",
              "      display:flex;\n",
              "      flex-wrap:wrap;\n",
              "      gap: 12px;\n",
              "    }\n",
              "\n",
              "    .colab-df-convert {\n",
              "      background-color: #E8F0FE;\n",
              "      border: none;\n",
              "      border-radius: 50%;\n",
              "      cursor: pointer;\n",
              "      display: none;\n",
              "      fill: #1967D2;\n",
              "      height: 32px;\n",
              "      padding: 0 0 0 0;\n",
              "      width: 32px;\n",
              "    }\n",
              "\n",
              "    .colab-df-convert:hover {\n",
              "      background-color: #E2EBFA;\n",
              "      box-shadow: 0px 1px 2px rgba(60, 64, 67, 0.3), 0px 1px 3px 1px rgba(60, 64, 67, 0.15);\n",
              "      fill: #174EA6;\n",
              "    }\n",
              "\n",
              "    [theme=dark] .colab-df-convert {\n",
              "      background-color: #3B4455;\n",
              "      fill: #D2E3FC;\n",
              "    }\n",
              "\n",
              "    [theme=dark] .colab-df-convert:hover {\n",
              "      background-color: #434B5C;\n",
              "      box-shadow: 0px 1px 3px 1px rgba(0, 0, 0, 0.15);\n",
              "      filter: drop-shadow(0px 1px 2px rgba(0, 0, 0, 0.3));\n",
              "      fill: #FFFFFF;\n",
              "    }\n",
              "  </style>\n",
              "\n",
              "      <script>\n",
              "        const buttonEl =\n",
              "          document.querySelector('#df-9301d50d-5081-4075-b651-91536f86a921 button.colab-df-convert');\n",
              "        buttonEl.style.display =\n",
              "          google.colab.kernel.accessAllowed ? 'block' : 'none';\n",
              "\n",
              "        async function convertToInteractive(key) {\n",
              "          const element = document.querySelector('#df-9301d50d-5081-4075-b651-91536f86a921');\n",
              "          const dataTable =\n",
              "            await google.colab.kernel.invokeFunction('convertToInteractive',\n",
              "                                                     [key], {});\n",
              "          if (!dataTable) return;\n",
              "\n",
              "          const docLinkHtml = 'Like what you see? Visit the ' +\n",
              "            '<a target=\"_blank\" href=https://colab.research.google.com/notebooks/data_table.ipynb>data table notebook</a>'\n",
              "            + ' to learn more about interactive tables.';\n",
              "          element.innerHTML = '';\n",
              "          dataTable['output_type'] = 'display_data';\n",
              "          await google.colab.output.renderOutput(dataTable, element);\n",
              "          const docLink = document.createElement('div');\n",
              "          docLink.innerHTML = docLinkHtml;\n",
              "          element.appendChild(docLink);\n",
              "        }\n",
              "      </script>\n",
              "    </div>\n",
              "  </div>\n",
              "  "
            ]
          },
          "metadata": {},
          "execution_count": 172
        }
      ]
    },
    {
      "cell_type": "code",
      "source": [
        "CrimeRatesSorted.tail()"
      ],
      "metadata": {
        "colab": {
          "base_uri": "https://localhost:8080/",
          "height": 204
        },
        "id": "EMuYz4Z7QRJb",
        "outputId": "622a98d7-2002-4a46-ac69-44292f68a142"
      },
      "execution_count": null,
      "outputs": [
        {
          "output_type": "execute_result",
          "data": {
            "text/plain": [
              "       type  count month  year                     date\n",
              "4  Burglary    118   Jun  2022  2022-06-01T00:00:00.000\n",
              "3   Assault    150   Jun  2022  2022-06-01T00:00:00.000\n",
              "2   Robbery     37   Jun  2022  2022-06-01T00:00:00.000\n",
              "1      Rape      9   Jun  2022  2022-06-01T00:00:00.000\n",
              "0  Homicide      8   Jun  2022  2022-06-01T00:00:00.000"
            ],
            "text/html": [
              "\n",
              "  <div id=\"df-955f853f-36ce-4acd-beb6-b0fd064cdfb6\">\n",
              "    <div class=\"colab-df-container\">\n",
              "      <div>\n",
              "<style scoped>\n",
              "    .dataframe tbody tr th:only-of-type {\n",
              "        vertical-align: middle;\n",
              "    }\n",
              "\n",
              "    .dataframe tbody tr th {\n",
              "        vertical-align: top;\n",
              "    }\n",
              "\n",
              "    .dataframe thead th {\n",
              "        text-align: right;\n",
              "    }\n",
              "</style>\n",
              "<table border=\"1\" class=\"dataframe\">\n",
              "  <thead>\n",
              "    <tr style=\"text-align: right;\">\n",
              "      <th></th>\n",
              "      <th>type</th>\n",
              "      <th>count</th>\n",
              "      <th>month</th>\n",
              "      <th>year</th>\n",
              "      <th>date</th>\n",
              "    </tr>\n",
              "  </thead>\n",
              "  <tbody>\n",
              "    <tr>\n",
              "      <th>4</th>\n",
              "      <td>Burglary</td>\n",
              "      <td>118</td>\n",
              "      <td>Jun</td>\n",
              "      <td>2022</td>\n",
              "      <td>2022-06-01T00:00:00.000</td>\n",
              "    </tr>\n",
              "    <tr>\n",
              "      <th>3</th>\n",
              "      <td>Assault</td>\n",
              "      <td>150</td>\n",
              "      <td>Jun</td>\n",
              "      <td>2022</td>\n",
              "      <td>2022-06-01T00:00:00.000</td>\n",
              "    </tr>\n",
              "    <tr>\n",
              "      <th>2</th>\n",
              "      <td>Robbery</td>\n",
              "      <td>37</td>\n",
              "      <td>Jun</td>\n",
              "      <td>2022</td>\n",
              "      <td>2022-06-01T00:00:00.000</td>\n",
              "    </tr>\n",
              "    <tr>\n",
              "      <th>1</th>\n",
              "      <td>Rape</td>\n",
              "      <td>9</td>\n",
              "      <td>Jun</td>\n",
              "      <td>2022</td>\n",
              "      <td>2022-06-01T00:00:00.000</td>\n",
              "    </tr>\n",
              "    <tr>\n",
              "      <th>0</th>\n",
              "      <td>Homicide</td>\n",
              "      <td>8</td>\n",
              "      <td>Jun</td>\n",
              "      <td>2022</td>\n",
              "      <td>2022-06-01T00:00:00.000</td>\n",
              "    </tr>\n",
              "  </tbody>\n",
              "</table>\n",
              "</div>\n",
              "      <button class=\"colab-df-convert\" onclick=\"convertToInteractive('df-955f853f-36ce-4acd-beb6-b0fd064cdfb6')\"\n",
              "              title=\"Convert this dataframe to an interactive table.\"\n",
              "              style=\"display:none;\">\n",
              "        \n",
              "  <svg xmlns=\"http://www.w3.org/2000/svg\" height=\"24px\"viewBox=\"0 0 24 24\"\n",
              "       width=\"24px\">\n",
              "    <path d=\"M0 0h24v24H0V0z\" fill=\"none\"/>\n",
              "    <path d=\"M18.56 5.44l.94 2.06.94-2.06 2.06-.94-2.06-.94-.94-2.06-.94 2.06-2.06.94zm-11 1L8.5 8.5l.94-2.06 2.06-.94-2.06-.94L8.5 2.5l-.94 2.06-2.06.94zm10 10l.94 2.06.94-2.06 2.06-.94-2.06-.94-.94-2.06-.94 2.06-2.06.94z\"/><path d=\"M17.41 7.96l-1.37-1.37c-.4-.4-.92-.59-1.43-.59-.52 0-1.04.2-1.43.59L10.3 9.45l-7.72 7.72c-.78.78-.78 2.05 0 2.83L4 21.41c.39.39.9.59 1.41.59.51 0 1.02-.2 1.41-.59l7.78-7.78 2.81-2.81c.8-.78.8-2.07 0-2.86zM5.41 20L4 18.59l7.72-7.72 1.47 1.35L5.41 20z\"/>\n",
              "  </svg>\n",
              "      </button>\n",
              "      \n",
              "  <style>\n",
              "    .colab-df-container {\n",
              "      display:flex;\n",
              "      flex-wrap:wrap;\n",
              "      gap: 12px;\n",
              "    }\n",
              "\n",
              "    .colab-df-convert {\n",
              "      background-color: #E8F0FE;\n",
              "      border: none;\n",
              "      border-radius: 50%;\n",
              "      cursor: pointer;\n",
              "      display: none;\n",
              "      fill: #1967D2;\n",
              "      height: 32px;\n",
              "      padding: 0 0 0 0;\n",
              "      width: 32px;\n",
              "    }\n",
              "\n",
              "    .colab-df-convert:hover {\n",
              "      background-color: #E2EBFA;\n",
              "      box-shadow: 0px 1px 2px rgba(60, 64, 67, 0.3), 0px 1px 3px 1px rgba(60, 64, 67, 0.15);\n",
              "      fill: #174EA6;\n",
              "    }\n",
              "\n",
              "    [theme=dark] .colab-df-convert {\n",
              "      background-color: #3B4455;\n",
              "      fill: #D2E3FC;\n",
              "    }\n",
              "\n",
              "    [theme=dark] .colab-df-convert:hover {\n",
              "      background-color: #434B5C;\n",
              "      box-shadow: 0px 1px 3px 1px rgba(0, 0, 0, 0.15);\n",
              "      filter: drop-shadow(0px 1px 2px rgba(0, 0, 0, 0.3));\n",
              "      fill: #FFFFFF;\n",
              "    }\n",
              "  </style>\n",
              "\n",
              "      <script>\n",
              "        const buttonEl =\n",
              "          document.querySelector('#df-955f853f-36ce-4acd-beb6-b0fd064cdfb6 button.colab-df-convert');\n",
              "        buttonEl.style.display =\n",
              "          google.colab.kernel.accessAllowed ? 'block' : 'none';\n",
              "\n",
              "        async function convertToInteractive(key) {\n",
              "          const element = document.querySelector('#df-955f853f-36ce-4acd-beb6-b0fd064cdfb6');\n",
              "          const dataTable =\n",
              "            await google.colab.kernel.invokeFunction('convertToInteractive',\n",
              "                                                     [key], {});\n",
              "          if (!dataTable) return;\n",
              "\n",
              "          const docLinkHtml = 'Like what you see? Visit the ' +\n",
              "            '<a target=\"_blank\" href=https://colab.research.google.com/notebooks/data_table.ipynb>data table notebook</a>'\n",
              "            + ' to learn more about interactive tables.';\n",
              "          element.innerHTML = '';\n",
              "          dataTable['output_type'] = 'display_data';\n",
              "          await google.colab.output.renderOutput(dataTable, element);\n",
              "          const docLink = document.createElement('div');\n",
              "          docLink.innerHTML = docLinkHtml;\n",
              "          element.appendChild(docLink);\n",
              "        }\n",
              "      </script>\n",
              "    </div>\n",
              "  </div>\n",
              "  "
            ]
          },
          "metadata": {},
          "execution_count": 173
        }
      ]
    },
    {
      "cell_type": "code",
      "source": [
        "YearTotal = CrimeRatesSorted.groupby(\"year\").sum()"
      ],
      "metadata": {
        "id": "Ot0W-y04QhNE"
      },
      "execution_count": null,
      "outputs": []
    },
    {
      "cell_type": "markdown",
      "source": [
        "### Visualizing Crime Rates Per Year"
      ],
      "metadata": {
        "id": "6Ngl4wqbiFjH"
      }
    },
    {
      "cell_type": "code",
      "source": [
        "YearTotal.plot.area(stacked=False,color=\"orange\")\n",
        "YearTotal.plot.pie(subplots=True, figsize=(12, 13))\n",
        "plt.show()"
      ],
      "metadata": {
        "colab": {
          "base_uri": "https://localhost:8080/",
          "height": 898
        },
        "id": "8Wa9GeE7RlxY",
        "outputId": "830cfb98-58e3-4c93-ebee-6ce479e25d1b"
      },
      "execution_count": null,
      "outputs": [
        {
          "output_type": "display_data",
          "data": {
            "text/plain": [
              "<Figure size 432x288 with 1 Axes>"
            ],
            "image/png": "[encoded data removed]"
          },
          "metadata": {
            "needs_background": "light"
          }
        },
        {
          "output_type": "display_data",
          "data": {
            "text/plain": [
              "<Figure size 864x936 with 1 Axes>"
            ],
            "image/png": "[encoded data removed]"
          },
          "metadata": {}
        }
      ]
    },
    {
      "cell_type": "markdown",
      "source": [
        "### Visualizing Crime Drop Rates"
      ],
      "metadata": {
        "id": "iuWXc9EXhy2N"
      }
    },
    {
      "cell_type": "code",
      "source": [
        "YearTotal.pct_change().plot.area(stacked=False,color=\"orange\")\n",
        "plt.show()"
      ],
      "metadata": {
        "colab": {
          "base_uri": "https://localhost:8080/",
          "height": 279
        },
        "id": "grJCfruic9ct",
        "outputId": "edaac24c-76b4-43a4-978f-3724acbe1418"
      },
      "execution_count": null,
      "outputs": [
        {
          "output_type": "display_data",
          "data": {
            "text/plain": [
              "<Figure size 432x288 with 1 Axes>"
            ],
            "image/png": "[encoded data removed]"
          },
          "metadata": {
            "needs_background": "light"
          }
        }
      ]
    },
    {
      "cell_type": "markdown",
      "source": [
        "### Grouping Crimes By Type"
      ],
      "metadata": {
        "id": "gN5LPRKTqoDB"
      }
    },
    {
      "cell_type": "code",
      "source": [
        "CrimeType = df.groupby(\"type\").sum()\n",
        "del CrimeType[\"year\"]\n",
        "TopCrime = CrimeType.sort_values(by=[\"count\"],ascending=False)"
      ],
      "metadata": {
        "id": "zPwpD3DBq47u"
      },
      "execution_count": null,
      "outputs": []
    },
    {
      "cell_type": "markdown",
      "source": [
        "### Visualising Top Crimes "
      ],
      "metadata": {
        "id": "ckjrcHQMagmP"
      }
    },
    {
      "cell_type": "code",
      "source": [
        "TopCrime.plot(kind=\"barh\",title=\"Most Commited Crimes\",color=\"orange\")\n",
        "plt.show()"
      ],
      "metadata": {
        "colab": {
          "base_uri": "https://localhost:8080/",
          "height": 281
        },
        "id": "-OIkFVjoakfi",
        "outputId": "5c509435-64a4-479f-f9eb-c7f661493577"
      },
      "execution_count": null,
      "outputs": [
        {
          "output_type": "display_data",
          "data": {
            "text/plain": [
              "<Figure size 432x288 with 1 Axes>"
            ],
            "image/png": "[encoded data removed]"
          },
          "metadata": {
            "needs_background": "light"
          }
        }
      ]
    },
    {
      "cell_type": "markdown",
      "source": [
        "### Exporting the Top 3 Months of Crimes and Visualising "
      ],
      "metadata": {
        "id": "dK5jII37apmn"
      }
    },
    {
      "cell_type": "code",
      "source": [
        "TopMonths = df.groupby(\"month\").sum().sort_values(by=[\"count\"],ascending=False)\n",
        "del TopMonths[\"year\"]\n",
        "TopMonths.head(3).plot(kind=\"bar\",title=\"Top 3 Months\",color=\"teal\",legend=False)\n",
        "plt.show()"
      ],
      "metadata": {
        "colab": {
          "base_uri": "https://localhost:8080/",
          "height": 325
        },
        "id": "kxWO8tRVDQGf",
        "outputId": "a93a9a07-d7cd-4401-f4fb-89741cafe6a4"
      },
      "execution_count": null,
      "outputs": [
        {
          "output_type": "display_data",
          "data": {
            "text/plain": [
              "<Figure size 432x288 with 1 Axes>"
            ],
            "image/png": "[encoded data removed]"
          },
          "metadata": {
            "needs_background": "light"
          }
        }
      ]
    },
    {
      "cell_type": "markdown",
      "source": [
        "### Importing the data in a sqlite3 database"
      ],
      "metadata": {
        "id": "7eFE7Z1NayzB"
      }
    },
    {
      "cell_type": "code",
      "source": [
        "conn=sqlite3.connect('Buffalo Crime Rates.db')\n",
        "YearTotal.to_sql(name=\"Total Crimes Per Year\", con=conn, if_exists=\"replace\")\n",
        "TopCrime.to_sql(name=\"Most Commited Crimes\", con=conn, if_exists=\"replace\")\n",
        "TopMonths.head(3).to_sql(\"Top Three Months\",con=conn,if_exists=\"replace\")"
      ],
      "metadata": {
        "id": "MTDW9fYgbPEc"
      },
      "execution_count": null,
      "outputs": []
    },
    {
      "cell_type": "markdown",
      "source": [
        "### Saving data to csv file"
      ],
      "metadata": {
        "id": "sAhGhx5icBfL"
      }
    },
    {
      "cell_type": "code",
      "source": [
        "YearTotal.to_csv(\"Total Crimes.csv\")\n",
        "TopCrime.to_csv(\"Most Commited Crimes.csv\")\n",
        "TopMonths.head(3).to_csv(\"Top Three Months.csv\") "
      ],
      "metadata": {
        "id": "AVkj2bR3cFAr"
      },
      "execution_count": null,
      "outputs": []
    }
  ]
}